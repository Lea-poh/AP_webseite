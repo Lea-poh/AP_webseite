{
  "cells": [
    {
      "cell_type": "raw",
      "metadata": {},
      "source": [
        "---\n",
        "title: \"Grippe Impfung\"\n",
        "author: \"Anette Pohlmeier\"\n",
        "date: 2024-10-01\n",
        "categories: [Immunologie]\n",
        "---"
      ],
      "id": "5b34fec0"
    },
    {
      "cell_type": "markdown",
      "metadata": {},
      "source": [
        "```{css, echo = FALSE}\n",
        ".justify {\n",
        "  text-align: justify !important\n",
        "}\n",
        "```\n",
        "\n",
        "\n",
        "Die Zielvorgaben der Europäischen Union für ältere Menschen für eine Grippe-Impfung beträgt\n",
        "75 %, in Deutschland werden jedoch nur 43 % der Menschen über 60 Jahre geimpft. Die STIKO\n",
        "empfiehlt die Impfung auch für Schwangere, medizinisches Personal (Ärzte sind zu 81% geimpft)\n",
        "und jüngere Menschen mit Grunderkrankungen wie z.B. Lungenerkrankungen, Herz-Kreislauf-Erkrankungen\n",
        "oder Diabetes. Da mit zunehmendem Alter die Leistungsfähigkeit des Immunsystems\n",
        "abnimmt, steht für ältere Menschen ein Hochdosis-Impfstoff zur Verfügung.\n",
        "Zusammen mit der Influenza-Impfung kann gegen Covid-19 (Corona) geimpft werden. Der vollständige Impfschutz ist nach ca. 10-14 Tagen aufgebaut, deshalb sollte die Impfung ab Oktober erfolgen.\n",
        "Grippeviren verändern sich ständig, es gibt unterschiedliche Virusstämme (Typ A, Typ B und Typ\n",
        "C, die wiederrum durch 18 unterschiedliche H- und 11 unterschiedliche N-Proteine differenziert\n",
        "werden). Z.B. Vogelgrippe (A/H5N1), Spanische Grippe (A/H1N1), Hongkong-Grippe (A/H3N2). Der\n",
        "saisonale Influenza-Impfstoff enthält Bestandteile jener Virus-Varianten, die am wahrscheinlichsten\n",
        "in der kommenden Saison das Infektionsgeschehen dominieren werden. Die Impfung schließt\n",
        "die Erkrankung nicht zu 100% aus. Es kann sein, dass der Impfstoff die vorherrschende Virusvariante\n",
        "nicht voll abdeckt, oder die Infektion kurz vor der Impfung stattgefunden hat. Fieberhafte,\n",
        "sgn. Grippale Infekte können auch durch andere Erreger verursacht sein, es handelt sich dann aber\n",
        "nicht um ein Versagen der Influenza-Impfung.\n",
        "Es gibt zunehmend Hinweise darauf, dass die Influenza auch ein Risikofaktor für Herzinfarkte bzw.\n",
        "Schlaganfälle ist, die Influenza-Impfung kann davor schützen.\n",
        "Der Impfstoff ist in der Regel gut verträglich. Nach der Impfung mit dem Influenza-Totimpfstoff\n",
        "kann es – wie bei anderen Impfungen auch – vorübergehend zu Lokalreaktionen (leichte Schmerzen,\n",
        "Rötung und Schwellung an der Impfstelle) kommen (sog. Impfreaktionen). Diese sind Folge der\n",
        "erwünschten, natürlichen Auseinandersetzung des Immunsystems mit dem Impfstoff.\n",
        "Wie jede Impfung kann v.a. die Grippe-Impfung bei älteren Menschen Leben retten. Deshalb\n",
        "die Empfehlung: <span style=\"color: red; font-size: 20px;\">Lassen Sie sich impfen.</span>"
      ],
      "id": "6fa9d56b"
    }
  ],
  "metadata": {
    "kernelspec": {
      "name": "python3",
      "language": "python",
      "display_name": "Python 3"
    }
  },
  "nbformat": 4,
  "nbformat_minor": 5
}